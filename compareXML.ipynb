{
 "cells": [
  {
   "cell_type": "code",
   "execution_count": 6,
   "metadata": {},
   "outputs": [],
   "source": [
    "import xml.etree.ElementTree as ET\n",
    "import csv"
   ]
  },
  {
   "cell_type": "code",
   "execution_count": 10,
   "metadata": {},
   "outputs": [],
   "source": [
    "def compareElements(element1,element2, xpath=\" \"):\n",
    "    diffRows = []\n",
    "\n",
    "    #compare element tags\n",
    "    if element1.tag != element2.tag:\n",
    "        diffRows.append({\n",
    "            'XPath': xpath,\n",
    "            'Attribute': 'Tag',\n",
    "            'Value in File 1': element1.tag,\n",
    "            'Value in FIle 2': element2.tag\n",
    "        })\n",
    "\n",
    "    #compare element attributes\n",
    "    for attrib in element1.attrib:\n",
    "        if element1.attrib[attrib] != element2.attrib.get(attrib):\n",
    "            diffRows.append({\n",
    "                'XPath': f\"{xpath}/@{attrib}\",\n",
    "                'Attribute': 'Attribute',\n",
    "                'Value in File 1': element1.attrib[attrib],\n",
    "                'Value in File 2': element2.attriv.get(attrib,'')\n",
    "            })\n",
    "\n",
    "    #compare element text content\n",
    "    if element1.text != element2.text:\n",
    "        diffRows.append({\n",
    "            'XPath': xpath,\n",
    "            'Attribute': 'Text',\n",
    "            'Value in File 1': element1.text,\n",
    "            'Value in File 2': element2.text\n",
    "        })\n",
    "\n",
    "    children1 = list(element1)\n",
    "    children2 = list(element2)\n",
    "\n",
    "    for i, (child1,child2) in enumerate(zip(children1,children2)):\n",
    "        child_xpath= f\"{xpath}/{element1.tag}[{i+1}]\"\n",
    "        diffRows.extend(compareElements(child1, child2, xpath = child_xpath))\n",
    "    return diffRows\n"
   ]
  },
  {
   "cell_type": "code",
   "execution_count": 12,
   "metadata": {},
   "outputs": [],
   "source": [
    "def compareAndOutputDiff(file1,file2,output_csv):\n",
    "    tree1 = ET.parse(file1)\n",
    "    tree2 = ET.parse(file2)\n",
    "\n",
    "    root1 = tree1.getroot()\n",
    "    root2 = tree2.getroot()\n",
    "\n",
    "    diffRows = compareElements(root1, root2)\n",
    "\n",
    "    with open(output_csv,'w', newline = '') as csvfile:\n",
    "        fieldnames = ['XPath','Attribute','Value in File 1','Value in File 2']\n",
    "        writer = csv.DictWriter(csvfile, fieldnames= fieldnames)\n",
    "\n",
    "        writer.writeheader()\n",
    "        writer.writerows(diffRows)\n"
   ]
  },
  {
   "cell_type": "code",
   "execution_count": 15,
   "metadata": {},
   "outputs": [],
   "source": [
    "file1Path= \"/Users/aanyatummalapalli/pythonProjects/nameAndAddressSample1.xml\"\n",
    "file2Path= \"/Users/aanyatummalapalli/pythonProjects/AT_nameAndAdress.xml\"\n",
    "\n",
    "outputcsv = \"/Users/aanyatummalapalli/pythonProjects/outputCSVTest.csv\"\n",
    "\n",
    "compareAndOutputDiff(file1Path,file2Path,outputcsv)\n"
   ]
  }
 ],
 "metadata": {
  "kernelspec": {
   "display_name": "Python 3",
   "language": "python",
   "name": "python3"
  },
  "language_info": {
   "codemirror_mode": {
    "name": "ipython",
    "version": 3
   },
   "file_extension": ".py",
   "mimetype": "text/x-python",
   "name": "python",
   "nbconvert_exporter": "python",
   "pygments_lexer": "ipython3",
   "version": "3.9.6"
  }
 },
 "nbformat": 4,
 "nbformat_minor": 2
}
