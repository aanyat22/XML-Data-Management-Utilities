{
 "cells": [
  {
   "cell_type": "code",
   "execution_count": 2,
   "metadata": {},
   "outputs": [],
   "source": [
    "import xml.etree.ElementTree as ET\n",
    "\n"
   ]
  },
  {
   "cell_type": "code",
   "execution_count": 4,
   "metadata": {},
   "outputs": [],
   "source": [
    "def maskConfidentialData(xmlElement):\n",
    "    xmlElement.text = \"xxxxxxxxx\"\n"
   ]
  },
  {
   "cell_type": "code",
   "execution_count": 5,
   "metadata": {},
   "outputs": [],
   "source": [
    "def maskXmlDocument (xmlString):\n",
    "    root = ET.fromstring(xmlString)\n",
    "    for x in root.iter():\n",
    "        maskConfidentialData(x)\n",
    "\n",
    "    maskedXml = ET.tostring(root, encoding = 'utf-8').decode('utf-8')\n",
    "    return maskedXml"
   ]
  },
  {
   "cell_type": "code",
   "execution_count": 7,
   "metadata": {},
   "outputs": [
    {
     "name": "stdout",
     "output_type": "stream",
     "text": [
      "<root>xxxxxxxxx<sensitive_data>xxxxxxxxx</sensitive_data>\n",
      "    <user>xxxxxxxxx<username>xxxxxxxxx</username>\n",
      "        <password>xxxxxxxxx</password>\n",
      "    </user>\n",
      "</root>\n"
     ]
    }
   ],
   "source": [
    "testXML = \"\"\"\n",
    "<root>\n",
    "    <sensitive_data>Confidential Information</sensitive_data>\n",
    "    <user>\n",
    "        <username>john_doe</username>\n",
    "        <password>secret_password</password>\n",
    "    </user>\n",
    "</root>\n",
    "\"\"\"\n",
    "\n",
    "masked_xml = maskXmlDocument(testXML)\n",
    "print(masked_xml)"
   ]
  }
 ],
 "metadata": {
  "kernelspec": {
   "display_name": "Python 3",
   "language": "python",
   "name": "python3"
  },
  "language_info": {
   "codemirror_mode": {
    "name": "ipython",
    "version": 3
   },
   "file_extension": ".py",
   "mimetype": "text/x-python",
   "name": "python",
   "nbconvert_exporter": "python",
   "pygments_lexer": "ipython3",
   "version": "3.9.6"
  }
 },
 "nbformat": 4,
 "nbformat_minor": 2
}
