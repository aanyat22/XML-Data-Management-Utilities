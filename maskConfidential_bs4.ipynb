{
 "cells": [
  {
   "cell_type": "code",
   "execution_count": 3,
   "metadata": {},
   "outputs": [],
   "source": [
    "import bs4\n",
    "\n"
   ]
  },
  {
   "cell_type": "code",
   "execution_count": 4,
   "metadata": {},
   "outputs": [],
   "source": [
    "def readXML(xmlFile):\n",
    "    with open(xmlFile) as f:\n",
    "        xml = f.read()\n",
    "    return xml"
   ]
  },
  {
   "cell_type": "code",
   "execution_count": 6,
   "metadata": {},
   "outputs": [
    {
     "name": "stdout",
     "output_type": "stream",
     "text": [
      "<root>\n",
      "    <sensitive_data>Confidential Information</sensitive_data>\n",
      "    <user>\n",
      "        <username>john_doe</username>\n",
      "        <password>secret_password</password>\n",
      "        <title>aanya trust</title>\n",
      "        <accountnumber>4894584</accountnumber>\n",
      "        <addressline1>4604 </addressline1>\n",
      "        <addressline2>Alston Grove Drive</addressline2>\n",
      "        <city>Westerville</city>\n",
      "        <state>Ohio</state>\n",
      "        <country>USA</country>\n",
      "    </user>\n",
      "\n",
      "</root>\n"
     ]
    }
   ],
   "source": [
    "xmlString = readXML('/Users/aanyatummalapalli/pythonProjects/nameAndAddressSample1.xml')\n",
    "print(xmlString)"
   ]
  },
  {
   "cell_type": "code",
   "execution_count": 19,
   "metadata": {},
   "outputs": [],
   "source": [
    "def maskConfidentialData(xmlElement):\n",
    "    xmlElement.text = \"xxxxxxxxx\"\n"
   ]
  },
  {
   "cell_type": "code",
   "execution_count": 14,
   "metadata": {},
   "outputs": [],
   "source": [
    "def findAndReplace(tree, tagName):\n",
    "    for tag in tree.find_all(tagName):\n",
    "        tag.string = str('******')\n",
    "        print(tag.text)\n",
    "    return tree  "
   ]
  },
  {
   "cell_type": "code",
   "execution_count": 21,
   "metadata": {},
   "outputs": [],
   "source": [
    "def maskXmlDocument (xmlString):\n",
    "    root = ET.fromstring(xmlString)\n",
    "    for x in root.iter():\n",
    "        maskConfidentialData(x)\n",
    "\n",
    "    maskedXml = ET.tostring(root, encoding = 'utf-8').decode('utf-8')\n",
    "    return maskedXml"
   ]
  },
  {
   "cell_type": "code",
   "execution_count": null,
   "metadata": {},
   "outputs": [],
   "source": [
    "testXML = \"\"\"\n",
    "<root>\n",
    "    <sensitive_data>Confidential Information</sensitive_data>\n",
    "    <user>\n",
    "        <username>john_doe</username>\n",
    "        <password>secret_password</password>\n",
    "    </user>\n",
    "</root>\n",
    "\"\"\"\n",
    "\n",
    "masked_xml = maskXmlDocument(testXML)\n",
    "print(masked_xml)"
   ]
  },
  {
   "cell_type": "code",
   "execution_count": 17,
   "metadata": {},
   "outputs": [
    {
     "name": "stdout",
     "output_type": "stream",
     "text": [
      "******\n",
      "******\n",
      "<html><body><root>\n",
      "<sensitive_data>Confidential Information</sensitive_data>\n",
      "<user>\n",
      "<username>john_doe</username>\n",
      "<password>secret_password</password>\n",
      "<title>******</title>\n",
      "<accountnumber>4894584</accountnumber>\n",
      "<addressline1>******</addressline1>\n",
      "<addressline2>Alston Grove Drive</addressline2>\n",
      "<city>Westerville</city>\n",
      "<state>Ohio</state>\n",
      "<country>USA</country>\n",
      "</user>\n",
      "</root></body></html>\n"
     ]
    }
   ],
   "source": [
    "xmlString = readXML('/Users/aanyatummalapalli/pythonProjects/nameAndAddressSample1.xml')\n",
    "bs_tree = bs4.BeautifulSoup(xmlString)\n",
    "bs_tree=findAndReplace(bs_tree,'title')\n",
    "bs_tree=findAndReplace(bs_tree,'addressline1')\n",
    "with open('/Users/aanyatummalapalli/pythonProjects/nameAndAddressSample1_m.xml', \"w\") as f:\n",
    "    f.write(str(bs_tree))\n",
    "print(str(bs_tree))\n"
   ]
  }
 ],
 "metadata": {
  "kernelspec": {
   "display_name": "Python 3",
   "language": "python",
   "name": "python3"
  },
  "language_info": {
   "codemirror_mode": {
    "name": "ipython",
    "version": 3
   },
   "file_extension": ".py",
   "mimetype": "text/x-python",
   "name": "python",
   "nbconvert_exporter": "python",
   "pygments_lexer": "ipython3",
   "version": "3.9.6"
  }
 },
 "nbformat": 4,
 "nbformat_minor": 2
}
